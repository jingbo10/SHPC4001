{
 "cells": [
  {
   "cell_type": "markdown",
   "metadata": {
    "colab_type": "text",
    "id": "Kk99jEbcvjvG"
   },
   "source": [
    "# PHYS 1002: Computational Lab 1"
   ]
  },
  {
   "cell_type": "markdown",
   "metadata": {
    "colab_type": "text",
    "id": "6o_Nj4zQvjvI"
   },
   "source": [
    "## 1. Working in Jupyter notebooks"
   ]
  },
  {
   "cell_type": "markdown",
   "metadata": {
    "colab_type": "text",
    "id": "aaXQ6J-DvjvJ"
   },
   "source": [
    "This document is a _Jupyter notebook_. It is an interactive document combining formatted text (as well as equations etc) with code and output.\n",
    "\n",
    "If you have used Mathematica you should find the Jupyter notebook somewhat familiar. (This is not a coincidence: the Jupyter project was inspired by the Mathematica notebook interface and enabled by the expiration of the latter's patent!)"
   ]
  },
  {
   "cell_type": "markdown",
   "metadata": {
    "colab_type": "text",
    "id": "bQ-OzPmSvjvK"
   },
   "source": [
    "The document is comprised of a series of _cells_. Try clicking (once) anywhere on this paragraph. You should see a frame appear, showing the border of this cell. If you double-click, you'll enter editing mode (press Shift+Enter to get back to normal).\n",
    "\n",
    "There are two basic types of cell in a Jupyter notebook:\n",
    "\n",
    "1. _Code cells:_ contain (Python) code that can be evaluated by pressing Shift+Enter.\n",
    "\n",
    "2. _Markdown cells:_ contain formatted text, headings, equations etc. These use the [Markdown](https://en.wikipedia.org/wiki/Markdown) format, which is a standard format for creating rich text widely used in the programming world. Pressing Shift+Enter causes the cell to be rendered.\n",
    "\n",
    "The combination of the two provides a rich environment for producing what might be called \"computational documents\"."
   ]
  },
  {
   "cell_type": "markdown",
   "metadata": {
    "colab_type": "text",
    "id": "EWIChxt_vjvL"
   },
   "source": [
    "Here's how to create a new code cell:\n",
    "\n",
    "1. Click on the cell immediately _above_ where you want your new cell to appear.\n",
    "2. Now go up and click on the \"+\" button (second from left in the row of icons above the page)."
   ]
  },
  {
   "cell_type": "markdown",
   "metadata": {
    "colab_type": "text",
    "id": "URZJJayPvjvM"
   },
   "source": [
    "**Exercise 1.1:** go ahead and create a code cell below this one. When you've followed the steps, you should see a new (empty) code cell. Now click in the cell, type \"1+1\" and press_ Shift+Enter. _Voila ! :_ Your first piece of Python code!"
   ]
  },
  {
   "cell_type": "code",
   "execution_count": 1,
   "metadata": {
    "colab": {
     "base_uri": "https://localhost:8080/",
     "height": 34
    },
    "colab_type": "code",
    "id": "dzMAG8r3wUXO",
    "outputId": "0b907a28-a147-41d1-c398-f785e5dfe24d"
   },
   "outputs": [
    {
     "data": {
      "text/plain": [
       "2"
      ]
     },
     "execution_count": 1,
     "metadata": {
      "tags": []
     },
     "output_type": "execute_result"
    }
   ],
   "source": [
    "1+1"
   ]
  },
  {
   "cell_type": "markdown",
   "metadata": {
    "colab_type": "text",
    "id": "MgOGDjZVvjvN"
   },
   "source": [
    "Here's how to create a new markdown cell:\n",
    "\n",
    "1. Repeat the steps above to create a code cell.\n",
    "2. Notice the dropdown menu above that says \"Code\": this is the default style for a new cell. Click on that menu and select \"Markdown\"."
   ]
  },
  {
   "cell_type": "markdown",
   "metadata": {
    "colab_type": "text",
    "id": "I7qZLWIEvjvN"
   },
   "source": [
    "**Exercise 1.2:** create an empty markdown cell. Click in the cell and enter some markdown: try typing (without the quotes) `_Hello_ **World**!`, then hit Shift+Enter. Congratulations on your first piece of markdown!"
   ]
  },
  {
   "cell_type": "markdown",
   "metadata": {
    "colab_type": "text",
    "id": "o-bQYDSTxsVp"
   },
   "source": [
    "_Hello_ **World**!"
   ]
  },
  {
   "cell_type": "markdown",
   "metadata": {
    "colab_type": "text",
    "id": "648l9chCvjvO"
   },
   "source": [
    "For this class, you only need to know how to create code cells and markdown cells containing basic text. However, if you're curious to pick up more formatting tips as you go along, you can always double click on any markdown cell to see the raw text."
   ]
  },
  {
   "cell_type": "markdown",
   "metadata": {
    "colab_type": "text",
    "id": "I6KR8KkFvjvP"
   },
   "source": [
    "It's worth taking some time to become familiar with the other editing commands available in the menus (e.g. cut, paste, etc). There is also an extensive set of keyboard shortcuts to speed things along (see _Help > Keyboard shortcuts_)."
   ]
  },
  {
   "cell_type": "markdown",
   "metadata": {
    "colab_type": "text",
    "id": "SkA8WxFLvjvP"
   },
   "source": [
    "## 2. First steps: Python as calculator\n",
    "\n",
    "One of the most basic uses of Python is as a stand-in for your pocket calculator. The standard arithmetic operators are illustrated in the following examples. Go ahead and evaluate each cell to see the (hopefully expected!) result. (Note the lines beginning with a `#` are _comments_: these are ignored by the Python interpreter and are there for the (human) reader's benefit.)"
   ]
  },
  {
   "cell_type": "code",
   "execution_count": 2,
   "metadata": {
    "colab": {
     "base_uri": "https://localhost:8080/",
     "height": 34
    },
    "colab_type": "code",
    "id": "cKgjqv8gvjvQ",
    "outputId": "0ae515e5-971e-487b-9bd9-b4a3401a2796"
   },
   "outputs": [
    {
     "data": {
      "text/plain": [
       "2"
      ]
     },
     "execution_count": 2,
     "metadata": {
      "tags": []
     },
     "output_type": "execute_result"
    }
   ],
   "source": [
    "# addition\n",
    "1 + 1"
   ]
  },
  {
   "cell_type": "code",
   "execution_count": 3,
   "metadata": {
    "colab": {
     "base_uri": "https://localhost:8080/",
     "height": 34
    },
    "colab_type": "code",
    "id": "F9b63GsrvjvS",
    "outputId": "f5fd716f-a396-43f7-af98-2b31a1fe0e42"
   },
   "outputs": [
    {
     "data": {
      "text/plain": [
       "1"
      ]
     },
     "execution_count": 3,
     "metadata": {
      "tags": []
     },
     "output_type": "execute_result"
    }
   ],
   "source": [
    "# subtraction\n",
    "2 - 1"
   ]
  },
  {
   "cell_type": "code",
   "execution_count": 4,
   "metadata": {
    "colab": {
     "base_uri": "https://localhost:8080/",
     "height": 34
    },
    "colab_type": "code",
    "id": "1VOBxmCXvjvU",
    "outputId": "cd5bbb2f-9e57-418f-9049-711b0b01a4f5"
   },
   "outputs": [
    {
     "data": {
      "text/plain": [
       "4"
      ]
     },
     "execution_count": 4,
     "metadata": {
      "tags": []
     },
     "output_type": "execute_result"
    }
   ],
   "source": [
    "# multiplication\n",
    "2 * 2"
   ]
  },
  {
   "cell_type": "code",
   "execution_count": 5,
   "metadata": {
    "colab": {
     "base_uri": "https://localhost:8080/",
     "height": 34
    },
    "colab_type": "code",
    "id": "0O9kgCIVvjvX",
    "outputId": "1031bd69-2b65-435e-c453-94ac40c8bb88"
   },
   "outputs": [
    {
     "data": {
      "text/plain": [
       "1.5"
      ]
     },
     "execution_count": 5,
     "metadata": {
      "tags": []
     },
     "output_type": "execute_result"
    }
   ],
   "source": [
    "# division\n",
    "3 / 2"
   ]
  },
  {
   "cell_type": "code",
   "execution_count": 6,
   "metadata": {
    "colab": {
     "base_uri": "https://localhost:8080/",
     "height": 34
    },
    "colab_type": "code",
    "id": "pP2vJ3wxvjvZ",
    "outputId": "62237faa-b0b5-4f9f-da69-39aac7292433"
   },
   "outputs": [
    {
     "data": {
      "text/plain": [
       "16"
      ]
     },
     "execution_count": 6,
     "metadata": {
      "tags": []
     },
     "output_type": "execute_result"
    }
   ],
   "source": [
    "# exponentiation (raising to powers)\n",
    "2**4"
   ]
  },
  {
   "cell_type": "markdown",
   "metadata": {
    "colab_type": "text",
    "id": "gf7lzyIXvjva"
   },
   "source": [
    "The _modulus_ operation may be less familiar if you are new to programming. `x % y` represents the _remainder_ after dividing `x` by `y`:"
   ]
  },
  {
   "cell_type": "code",
   "execution_count": 7,
   "metadata": {
    "colab": {
     "base_uri": "https://localhost:8080/",
     "height": 34
    },
    "colab_type": "code",
    "id": "TZnfhdtGvjvb",
    "outputId": "43158b9c-2c03-462d-9289-088c3b3d8165"
   },
   "outputs": [
    {
     "data": {
      "text/plain": [
       "1"
      ]
     },
     "execution_count": 7,
     "metadata": {
      "tags": []
     },
     "output_type": "execute_result"
    }
   ],
   "source": [
    "# modulus (remainder of division)\n",
    "5 % 2"
   ]
  },
  {
   "cell_type": "markdown",
   "metadata": {
    "colab_type": "text",
    "id": "2ifIrSfkvjvc"
   },
   "source": [
    "As in normal written mathematics, parentheses `(` and `)` can be used to control priority of operations (if in doubt use them!):"
   ]
  },
  {
   "cell_type": "code",
   "execution_count": 8,
   "metadata": {
    "colab": {
     "base_uri": "https://localhost:8080/",
     "height": 34
    },
    "colab_type": "code",
    "id": "a7xUURpIvjvd",
    "outputId": "e05f58e8-5944-461d-818f-2ca274616be2"
   },
   "outputs": [
    {
     "data": {
      "text/plain": [
       "4"
      ]
     },
     "execution_count": 8,
     "metadata": {
      "tags": []
     },
     "output_type": "execute_result"
    }
   ],
   "source": [
    "# parentheses\n",
    "(1 + 1)**2"
   ]
  },
  {
   "cell_type": "markdown",
   "metadata": {
    "colab_type": "text",
    "id": "ExJt00epvjvf"
   },
   "source": [
    "Complex numbers are also built-in. Python uses the engineering notation $j = \\sqrt{-1}$ (instead of the usual $i = \\sqrt{i}$). Note that when writing a complex number, `j` must always be preceded by a numerical coefficient (otherwise it is interpreted as a variable). Thus, the number $1+\\mathrm{i}$ is written `1+1j` rather than `1+j`."
   ]
  },
  {
   "cell_type": "code",
   "execution_count": 12,
   "metadata": {
    "colab": {
     "base_uri": "https://localhost:8080/",
     "height": 34
    },
    "colab_type": "code",
    "id": "Qmx6Jdh8vjvg",
    "outputId": "404ad937-9c83-4704-92f7-2eb3b6fc4389"
   },
   "outputs": [
    {
     "data": {
      "text/plain": [
       "(1+1j)"
      ]
     },
     "execution_count": 12,
     "metadata": {
      "tags": []
     },
     "output_type": "execute_result"
    }
   ],
   "source": [
    "1+1j"
   ]
  },
  {
   "cell_type": "markdown",
   "metadata": {
    "colab_type": "text",
    "id": "nWUu9446vjvh"
   },
   "source": [
    "Scientific notation is very important in physics since we often need to work with very large or very small numbers. The following examples show how to use scientific notation to enter numbers in Python:"
   ]
  },
  {
   "cell_type": "code",
   "execution_count": 9,
   "metadata": {
    "colab": {
     "base_uri": "https://localhost:8080/",
     "height": 34
    },
    "colab_type": "code",
    "id": "vloCAc_6vjvi",
    "outputId": "d44ca10c-f958-472f-f2e5-4dea20e79384"
   },
   "outputs": [
    {
     "data": {
      "text/plain": [
       "6.02214e+23"
      ]
     },
     "execution_count": 9,
     "metadata": {
      "tags": []
     },
     "output_type": "execute_result"
    }
   ],
   "source": [
    "# avogadro's number\n",
    "6.02214e23"
   ]
  },
  {
   "cell_type": "code",
   "execution_count": 10,
   "metadata": {
    "colab": {
     "base_uri": "https://localhost:8080/",
     "height": 34
    },
    "colab_type": "code",
    "id": "B0rktiK5vjvj",
    "outputId": "6cd29bc9-1deb-4a2c-e994-efe181534a70"
   },
   "outputs": [
    {
     "data": {
      "text/plain": [
       "5.391e-44"
      ]
     },
     "execution_count": 10,
     "metadata": {
      "tags": []
     },
     "output_type": "execute_result"
    }
   ],
   "source": [
    "# Planck time (in seconds)\n",
    "5.391e-44"
   ]
  },
  {
   "cell_type": "markdown",
   "metadata": {
    "colab_type": "text",
    "id": "qrn5le4cvjvk"
   },
   "source": [
    "**Exercise 2.1:** Evaluate $2^{42}$."
   ]
  },
  {
   "cell_type": "code",
   "execution_count": 11,
   "metadata": {
    "colab": {
     "base_uri": "https://localhost:8080/",
     "height": 34
    },
    "colab_type": "code",
    "id": "r_IX9RfpydJL",
    "outputId": "f39d029c-1569-4f84-b378-3344acce0af0"
   },
   "outputs": [
    {
     "data": {
      "text/plain": [
       "2e+42"
      ]
     },
     "execution_count": 11,
     "metadata": {
      "tags": []
     },
     "output_type": "execute_result"
    }
   ],
   "source": [
    "2e42"
   ]
  },
  {
   "cell_type": "markdown",
   "metadata": {
    "colab_type": "text",
    "id": "4ml63cr9vjvl"
   },
   "source": [
    "**Exercise 2.2:** Calculate $\\frac{1+2\\mathrm{i}}{3+4\\mathrm{i}}$."
   ]
  },
  {
   "cell_type": "code",
   "execution_count": 13,
   "metadata": {
    "colab": {
     "base_uri": "https://localhost:8080/",
     "height": 34
    },
    "colab_type": "code",
    "id": "1YUaesNRyips",
    "outputId": "5fa52306-27f4-447b-aa7c-3d17c0145d3f"
   },
   "outputs": [
    {
     "data": {
      "text/plain": [
       "(0.44+0.08j)"
      ]
     },
     "execution_count": 13,
     "metadata": {
      "tags": []
     },
     "output_type": "execute_result"
    }
   ],
   "source": [
    "(1+2j)/(3+4j)"
   ]
  },
  {
   "cell_type": "markdown",
   "metadata": {
    "colab_type": "text",
    "id": "k5vgUxmCvjvl"
   },
   "source": [
    "**Exercise 2.3:** Calculate the rest mass energy $E$ of an electron ($m = 9.109\\times 10^{-31}\\textrm{kg}$) in Joules, as given by the formula $E = m c^2$ ($c = 2.998 \\times 10^8\\mathrm{m}\\mathrm{s}^{-1}$ is the speed of light)."
   ]
  },
  {
   "cell_type": "code",
   "execution_count": 14,
   "metadata": {
    "colab": {
     "base_uri": "https://localhost:8080/",
     "height": 34
    },
    "colab_type": "code",
    "id": "AXK9qe1OzO03",
    "outputId": "09734002-b325-4f89-b3d7-801bf6793882"
   },
   "outputs": [
    {
     "data": {
      "text/plain": [
       "8.187172843599999e-14"
      ]
     },
     "execution_count": 14,
     "metadata": {
      "tags": []
     },
     "output_type": "execute_result"
    }
   ],
   "source": [
    "9.109e-31 * (2.998e8)**2"
   ]
  },
  {
   "cell_type": "markdown",
   "metadata": {
    "colab_type": "text",
    "id": "SVY0YIovvjvl"
   },
   "source": [
    "## 3. More advanced math functions\n",
    "\n",
    "For mathematical functions like $\\sqrt{x}$, $\\mathrm{sin}(x)$, $\\mathrm{e}^x$ and so on, it is necessary to import a _module_. Modules in Python are collections of additional functions that are not built-in to the language. A module must be _loaded_ before any of its functions can be used.\n",
    "\n",
    "Python comes with a vast _standard library_ of modules providing a wide range of functionality. Python has two modules implementing basic mathematical functions:\n",
    "\n",
    "1. `math`: implements real-valued functions\n",
    "2. `cmath`: implements complex-valued functions\n",
    "\n",
    "Listings of the functions contained in these modules can be found [here](https://docs.python.org/3/library/math.html#module-math) and [here](https://docs.python.org/3/library/cmath.html#module-cmath).\n",
    "\n",
    "Let's now go and load both modules using the `import` command:"
   ]
  },
  {
   "cell_type": "code",
   "execution_count": 29,
   "metadata": {
    "colab": {},
    "colab_type": "code",
    "id": "0KjplFkQvjvm"
   },
   "outputs": [],
   "source": [
    "import math\n",
    "import cmath"
   ]
  },
  {
   "cell_type": "markdown",
   "metadata": {
    "colab_type": "text",
    "id": "j09pqQb_vjvn"
   },
   "source": [
    "To see the difference between the two modules, let's evaluate several trigonometric functions (note that all arguments are in radians):"
   ]
  },
  {
   "cell_type": "code",
   "execution_count": 16,
   "metadata": {
    "colab": {
     "base_uri": "https://localhost:8080/",
     "height": 34
    },
    "colab_type": "code",
    "id": "i0-kk_vQvjvo",
    "outputId": "9b25b2ed-80a7-4b93-b409-2ae9d6d4864b"
   },
   "outputs": [
    {
     "data": {
      "text/plain": [
       "(0.8414709848078965, 1.0)"
      ]
     },
     "execution_count": 16,
     "metadata": {
      "tags": []
     },
     "output_type": "execute_result"
    }
   ],
   "source": [
    "math.sin(1.0), math.cos(0.0)"
   ]
  },
  {
   "cell_type": "code",
   "execution_count": 17,
   "metadata": {
    "colab": {
     "base_uri": "https://localhost:8080/",
     "height": 34
    },
    "colab_type": "code",
    "id": "spvrfcnevjvp",
    "outputId": "f7e0ea01-6516-45c3-c5b6-f9cab9def716"
   },
   "outputs": [
    {
     "data": {
      "text/plain": [
       "((0.8414709848078965+0j), (1-0j))"
      ]
     },
     "execution_count": 17,
     "metadata": {
      "tags": []
     },
     "output_type": "execute_result"
    }
   ],
   "source": [
    "cmath.sin(1.0), cmath.cos(0.0)"
   ]
  },
  {
   "cell_type": "markdown",
   "metadata": {
    "colab_type": "text",
    "id": "z8RNbn0avjvq"
   },
   "source": [
    "Notice that, although the results are both mathematically the same, the `cmath` module returns complex numbers even when the result is real.\n",
    "\n",
    "The real (pardon the pun) advantage of `cmath` over `math` is that it can handle complex arguments:"
   ]
  },
  {
   "cell_type": "code",
   "execution_count": 18,
   "metadata": {
    "colab": {
     "base_uri": "https://localhost:8080/",
     "height": 34
    },
    "colab_type": "code",
    "id": "yRWHqbszvjvq",
    "outputId": "25bac91f-79b6-4469-c691-98f8420f5b7d"
   },
   "outputs": [
    {
     "data": {
      "text/plain": [
       "(1.2984575814159773+0.6349639147847361j)"
      ]
     },
     "execution_count": 18,
     "metadata": {
      "tags": []
     },
     "output_type": "execute_result"
    }
   ],
   "source": [
    "cmath.sin(1+1j)"
   ]
  },
  {
   "cell_type": "code",
   "execution_count": 19,
   "metadata": {
    "colab": {
     "base_uri": "https://localhost:8080/",
     "height": 164
    },
    "colab_type": "code",
    "id": "9KZpBsiUvjvr",
    "outputId": "76a93b0f-f9bd-46d3-8c8d-bd1a1668fb73"
   },
   "outputs": [
    {
     "ename": "TypeError",
     "evalue": "ignored",
     "output_type": "error",
     "traceback": [
      "\u001b[0;31m---------------------------------------------------------------------------\u001b[0m",
      "\u001b[0;31mTypeError\u001b[0m                                 Traceback (most recent call last)",
      "\u001b[0;32m<ipython-input-19-2ecc6414405f>\u001b[0m in \u001b[0;36m<module>\u001b[0;34m()\u001b[0m\n\u001b[0;32m----> 1\u001b[0;31m \u001b[0mmath\u001b[0m\u001b[0;34m.\u001b[0m\u001b[0msin\u001b[0m\u001b[0;34m(\u001b[0m\u001b[0;36m1\u001b[0m\u001b[0;34m+\u001b[0m\u001b[0;36m1j\u001b[0m\u001b[0;34m)\u001b[0m\u001b[0;34m\u001b[0m\u001b[0;34m\u001b[0m\u001b[0m\n\u001b[0m",
      "\u001b[0;31mTypeError\u001b[0m: can't convert complex to float"
     ]
    }
   ],
   "source": [
    "# this produces an error!\n",
    "math.sin(1+1j)"
   ]
  },
  {
   "cell_type": "markdown",
   "metadata": {
    "colab_type": "text",
    "id": "Lzeev-hvvjvs"
   },
   "source": [
    "Finally, note that mathematical constants such as $\\pi$ and $\\mathrm{e}$ are defined:"
   ]
  },
  {
   "cell_type": "code",
   "execution_count": 20,
   "metadata": {
    "colab": {
     "base_uri": "https://localhost:8080/",
     "height": 34
    },
    "colab_type": "code",
    "id": "PMxJ4gc8vjvt",
    "outputId": "ab64ae0a-7507-4d38-9efd-5d38882c7ee2"
   },
   "outputs": [
    {
     "data": {
      "text/plain": [
       "(3.141592653589793, 2.718281828459045)"
      ]
     },
     "execution_count": 20,
     "metadata": {
      "tags": []
     },
     "output_type": "execute_result"
    }
   ],
   "source": [
    "math.pi, math.e"
   ]
  },
  {
   "cell_type": "markdown",
   "metadata": {
    "colab_type": "text",
    "id": "dYs8tlT3vjvu"
   },
   "source": [
    "**Exercise 3.1:** verify the following identities (by evaluating the left hand sides):\n",
    "\n",
    "$$\n",
    "\\mathrm{sin}^2\\left(\\frac{\\pi}{3}\\right) + \\mathrm{cos}^2\\left(\\frac{\\pi}{3}\\right) = 1,\n",
    "\\quad\n",
    "\\mathrm{e}^{\\mathrm{i}\\pi} + 1 = 0\n",
    "$$"
   ]
  },
  {
   "cell_type": "code",
   "execution_count": 22,
   "metadata": {
    "colab": {
     "base_uri": "https://localhost:8080/",
     "height": 34
    },
    "colab_type": "code",
    "id": "0ReV3g5Qz4_v",
    "outputId": "190c4bd1-fcb2-4352-9156-2788c9dee619"
   },
   "outputs": [
    {
     "data": {
      "text/plain": [
       "1.0"
      ]
     },
     "execution_count": 22,
     "metadata": {
      "tags": []
     },
     "output_type": "execute_result"
    }
   ],
   "source": [
    "math.sin(math.pi/3)**2 + math.cos(math.pi/3)**2"
   ]
  },
  {
   "cell_type": "code",
   "execution_count": 28,
   "metadata": {
    "colab": {
     "base_uri": "https://localhost:8080/",
     "height": 164
    },
    "colab_type": "code",
    "id": "5yhdntWd0BZb",
    "outputId": "9ccb29fc-d993-430f-c840-5d8aa81d3d93"
   },
   "outputs": [
    {
     "data": {
      "text/plain": [
       "1.2246467991473532e-16j"
      ]
     },
     "execution_count": 28,
     "metadata": {},
     "output_type": "execute_result"
    }
   ],
   "source": [
    "cmath.exp((math.pi)*(0+1j))+1"
   ]
  },
  {
   "cell_type": "markdown",
   "metadata": {
    "colab_type": "text",
    "id": "PvYGuhsrvjvu"
   },
   "source": [
    "## 4. Defining variables\n",
    "\n",
    "The first step in going beyond using Python as a glorified pocket calculator is probably the notion of defining _variables_. Being able to assign the result of some computation to a named variable makes it possible to build up a sophisticated program using a sequence of easily understandable steps.\n",
    "\n",
    "Here are some ways to assign values (in this case integers) to variables:"
   ]
  },
  {
   "cell_type": "code",
   "execution_count": 0,
   "metadata": {
    "colab": {},
    "colab_type": "code",
    "id": "KXYVJbS9vjvu"
   },
   "outputs": [],
   "source": [
    "a = 1"
   ]
  },
  {
   "cell_type": "code",
   "execution_count": 0,
   "metadata": {
    "colab": {},
    "colab_type": "code",
    "id": "0NCtRQTjvjvv"
   },
   "outputs": [],
   "source": [
    "a = b = c = 2"
   ]
  },
  {
   "cell_type": "code",
   "execution_count": 0,
   "metadata": {
    "colab": {},
    "colab_type": "code",
    "id": "a8kdXA3Nvjvw"
   },
   "outputs": [],
   "source": [
    "# compound statement with semicolons\n",
    "a = 1; b = 2; c = 3"
   ]
  },
  {
   "cell_type": "code",
   "execution_count": 0,
   "metadata": {
    "colab": {},
    "colab_type": "code",
    "id": "1CBCywdnvjvx"
   },
   "outputs": [],
   "source": [
    "# \"tuple assignment\" (this is considered a very \"Pythonic\" idiom!)\n",
    "a, b, c = 1, 2, 3"
   ]
  },
  {
   "cell_type": "markdown",
   "metadata": {
    "colab_type": "text",
    "id": "JqcgoEmxvjvy"
   },
   "source": [
    "Notes:\n",
    "\n",
    "1. Variable names can use any alphanumeric unicode character, but must start with letter or underscore (_).\n",
    "\n",
    "2. Now is probably a good time to note that Python is _case sensitive_. Thus `A` is not the same variable name as `a`, `energy` is not the same as `ENERGY` and so on.\n",
    "\n",
    "3. For all but the simplest programs it is a good idea to use variable names that are descriptive (so avoid `x`, or `my_variable`). The convention for multi-word variables is all lower case, separated by underscore, e.g. `electron_mass`, `speed_of_light` etc."
   ]
  },
  {
   "cell_type": "markdown",
   "metadata": {
    "colab_type": "text",
    "id": "0K4pV3o7vjvy"
   },
   "source": [
    "## 5. Data types\n",
    "\n",
    "So far, we have been working with numerical data without paying much attention to what the underlying data type might be. Let us now briefly point out the most important basic numerical types in Python (we make use of the built-in function `type`):"
   ]
  },
  {
   "cell_type": "code",
   "execution_count": 64,
   "metadata": {
    "colab": {
     "base_uri": "https://localhost:8080/",
     "height": 34
    },
    "colab_type": "code",
    "id": "fX5eWyNMvjvy",
    "outputId": "2cbdc2bc-81bd-4869-e192-2595b445ef13"
   },
   "outputs": [
    {
     "data": {
      "text/plain": [
       "(1267650600228229401496703205376, int)"
      ]
     },
     "execution_count": 64,
     "metadata": {
      "tags": []
     },
     "output_type": "execute_result"
    }
   ],
   "source": [
    "# int: arbitrary precision integer\n",
    "k = 2**100\n",
    "k, type(k)"
   ]
  },
  {
   "cell_type": "code",
   "execution_count": 65,
   "metadata": {
    "colab": {
     "base_uri": "https://localhost:8080/",
     "height": 34
    },
    "colab_type": "code",
    "id": "nAe3Yk6Pvjvz",
    "outputId": "e02bc942-03a0-4caf-c208-13d0fa7167fc"
   },
   "outputs": [
    {
     "data": {
      "text/plain": [
       "(float, float, float)"
      ]
     },
     "execution_count": 65,
     "metadata": {
      "tags": []
     },
     "output_type": "execute_result"
    }
   ],
   "source": [
    "# float: double precision floating point real number\n",
    "x, c, e = 123.0, 3e8, 1.6e-19\n",
    "type(x), type(c), type(e)"
   ]
  },
  {
   "cell_type": "code",
   "execution_count": 70,
   "metadata": {
    "colab": {
     "base_uri": "https://localhost:8080/",
     "height": 34
    },
    "colab_type": "code",
    "id": "iZtWzT432aM5",
    "outputId": "ded58e1b-cae1-481b-db95-046227d1e86d"
   },
   "outputs": [
    {
     "data": {
      "text/plain": [
       "(300000000.0, float, 1.6e-19, float, 123.0, float)"
      ]
     },
     "execution_count": 70,
     "metadata": {
      "tags": []
     },
     "output_type": "execute_result"
    }
   ],
   "source": [
    "c, type(c), e, type(e), x, type(x)"
   ]
  },
  {
   "cell_type": "code",
   "execution_count": 66,
   "metadata": {
    "colab": {
     "base_uri": "https://localhost:8080/",
     "height": 34
    },
    "colab_type": "code",
    "id": "PG75Mlk4vjv0",
    "outputId": "a639a571-e7f2-4183-a212-dbe02838cdd0"
   },
   "outputs": [
    {
     "data": {
      "text/plain": [
       "((123+456j), complex)"
      ]
     },
     "execution_count": 66,
     "metadata": {
      "tags": []
     },
     "output_type": "execute_result"
    }
   ],
   "source": [
    "# complex: double precision floating point complex number\n",
    "z = 123.0 + 456.0j\n",
    "z, type(z)"
   ]
  },
  {
   "cell_type": "markdown",
   "metadata": {
    "colab_type": "text",
    "id": "J63K5mhVvjv1"
   },
   "source": [
    "In addition to numeric data, there are two other elementary types worth mentioning:"
   ]
  },
  {
   "cell_type": "code",
   "execution_count": 71,
   "metadata": {
    "colab": {
     "base_uri": "https://localhost:8080/",
     "height": 34
    },
    "colab_type": "code",
    "id": "IDPS2M8Mvjv1",
    "outputId": "4040fa0c-8f15-43be-8e1d-1ab00195d6b8"
   },
   "outputs": [
    {
     "data": {
      "text/plain": [
       "('abc', 'abc', str, str)"
      ]
     },
     "execution_count": 71,
     "metadata": {
      "tags": []
     },
     "output_type": "execute_result"
    }
   ],
   "source": [
    "# str: a string (either single or double quotes can be used)\n",
    "s1 = 'abc'\n",
    "s2 = \"abc\"\n",
    "s1, s2, type(s1), type(s2)"
   ]
  },
  {
   "cell_type": "code",
   "execution_count": 72,
   "metadata": {
    "colab": {
     "base_uri": "https://localhost:8080/",
     "height": 34
    },
    "colab_type": "code",
    "id": "XvHQYp5Uvjv2",
    "outputId": "74954605-8264-489a-ffd4-d8a562749f89"
   },
   "outputs": [
    {
     "data": {
      "text/plain": [
       "(True, False, bool, bool)"
      ]
     },
     "execution_count": 72,
     "metadata": {
      "tags": []
     },
     "output_type": "execute_result"
    }
   ],
   "source": [
    "# bool: a Boolean (True or False)\n",
    "a = True\n",
    "b = False\n",
    "a, b, type(a), type(b)"
   ]
  },
  {
   "cell_type": "markdown",
   "metadata": {
    "colab_type": "text",
    "id": "bw3k43oDvjv3"
   },
   "source": [
    "Variables are _dynamically typed_, hence there are no type declarations (in contrast to a _statically typed_ language such as C).\n",
    "\n",
    "This means that the type of a variable can change over time (note, however, that this is often bad practice):"
   ]
  },
  {
   "cell_type": "code",
   "execution_count": 73,
   "metadata": {
    "colab": {
     "base_uri": "https://localhost:8080/",
     "height": 34
    },
    "colab_type": "code",
    "id": "0KeTbOGjvjv3",
    "outputId": "1f7152f0-9264-4f88-8cc8-d7d2cce9e204"
   },
   "outputs": [
    {
     "data": {
      "text/plain": [
       "int"
      ]
     },
     "execution_count": 73,
     "metadata": {
      "tags": []
     },
     "output_type": "execute_result"
    }
   ],
   "source": [
    "# initially...\n",
    "a = 1\n",
    "type(a)"
   ]
  },
  {
   "cell_type": "code",
   "execution_count": 74,
   "metadata": {
    "colab": {
     "base_uri": "https://localhost:8080/",
     "height": 34
    },
    "colab_type": "code",
    "id": "T7thZ20Yvjv4",
    "outputId": "aeff5562-5c50-460f-e61d-e8f780c0ffcc"
   },
   "outputs": [
    {
     "data": {
      "text/plain": [
       "str"
      ]
     },
     "execution_count": 74,
     "metadata": {
      "tags": []
     },
     "output_type": "execute_result"
    }
   ],
   "source": [
    "# subsequently...\n",
    "a = \"one\"\n",
    "type(a)"
   ]
  },
  {
   "cell_type": "markdown",
   "metadata": {
    "colab_type": "text",
    "id": "HMlzUWOSvjv5"
   },
   "source": [
    "**Type conversions:**\n",
    "\n",
    "An important case: what happens when you divide two integers?"
   ]
  },
  {
   "cell_type": "code",
   "execution_count": 75,
   "metadata": {
    "colab": {
     "base_uri": "https://localhost:8080/",
     "height": 34
    },
    "colab_type": "code",
    "id": "4H_AqBWtvjv5",
    "outputId": "e1a1ea21-dc71-4442-ec78-a4e292d445ed"
   },
   "outputs": [
    {
     "name": "stdout",
     "output_type": "stream",
     "text": [
      "0.5\n"
     ]
    }
   ],
   "source": [
    "a, b = 1, 2\n",
    "print(a/b)"
   ]
  },
  {
   "cell_type": "markdown",
   "metadata": {
    "colab_type": "text",
    "id": "QyJKB1skvjv6"
   },
   "source": [
    "Clearly, the result is not an integer:"
   ]
  },
  {
   "cell_type": "code",
   "execution_count": 76,
   "metadata": {
    "colab": {
     "base_uri": "https://localhost:8080/",
     "height": 34
    },
    "colab_type": "code",
    "id": "00WiIZcdvjv6",
    "outputId": "a0a2d05b-fcb5-4cad-b56a-a9e0d03705ec"
   },
   "outputs": [
    {
     "data": {
      "text/plain": [
       "float"
      ]
     },
     "execution_count": 76,
     "metadata": {
      "tags": []
     },
     "output_type": "execute_result"
    }
   ],
   "source": [
    "type(a/b)"
   ]
  },
  {
   "cell_type": "markdown",
   "metadata": {
    "colab_type": "text",
    "id": "3z-pF2Ppvjv7"
   },
   "source": [
    "This is an example of _implicit type conversion_: in Python, the division operator returns a `float`, even when the arguments are both integers (and even when the result is an integer):"
   ]
  },
  {
   "cell_type": "code",
   "execution_count": 77,
   "metadata": {
    "colab": {
     "base_uri": "https://localhost:8080/",
     "height": 34
    },
    "colab_type": "code",
    "id": "KmE5aLcovjv7",
    "outputId": "090d8628-9361-485d-8fd5-9b48d1acbc90"
   },
   "outputs": [
    {
     "data": {
      "text/plain": [
       "float"
      ]
     },
     "execution_count": 77,
     "metadata": {
      "tags": []
     },
     "output_type": "execute_result"
    }
   ],
   "source": [
    "type(4/2)"
   ]
  },
  {
   "cell_type": "markdown",
   "metadata": {
    "colab_type": "text",
    "id": "mieYQGKUvjv8"
   },
   "source": [
    "There are also functions to carry out _explicit_ type conversion:"
   ]
  },
  {
   "cell_type": "code",
   "execution_count": 78,
   "metadata": {
    "colab": {
     "base_uri": "https://localhost:8080/",
     "height": 34
    },
    "colab_type": "code",
    "id": "TQLvZctrvjv9",
    "outputId": "4b441922-9dd1-41d1-d22e-a06685118bab"
   },
   "outputs": [
    {
     "name": "stdout",
     "output_type": "stream",
     "text": [
      "125.6 146.6 146.6\n"
     ]
    }
   ],
   "source": [
    "a = \"125.6\"\n",
    "# converting the string into a float and adding 21\n",
    "b = float(a) + 21\n",
    "# converting back into a string\n",
    "c = str(b)\n",
    "# printing variables a, b, and c\n",
    "print(a,b,c)"
   ]
  },
  {
   "cell_type": "markdown",
   "metadata": {
    "colab_type": "text",
    "id": "YmXBXdVRvjv-"
   },
   "source": [
    "## 5. Logical operators"
   ]
  },
  {
   "cell_type": "markdown",
   "metadata": {
    "colab_type": "text",
    "id": "qdQTPjNHvjv-"
   },
   "source": [
    "**Relational operators:**\n",
    "\n",
    "These compare two arguments and return a boolean (`bool`) value:"
   ]
  },
  {
   "cell_type": "code",
   "execution_count": 79,
   "metadata": {
    "colab": {
     "base_uri": "https://localhost:8080/",
     "height": 34
    },
    "colab_type": "code",
    "id": "hib5RORVvjv-",
    "outputId": "5482c42f-0f50-4a7d-bd0c-8ad31beb9cac"
   },
   "outputs": [
    {
     "data": {
      "text/plain": [
       "True"
      ]
     },
     "execution_count": 79,
     "metadata": {
      "tags": []
     },
     "output_type": "execute_result"
    }
   ],
   "source": [
    "5.4 <= 6."
   ]
  },
  {
   "cell_type": "code",
   "execution_count": 80,
   "metadata": {
    "colab": {
     "base_uri": "https://localhost:8080/",
     "height": 34
    },
    "colab_type": "code",
    "id": "6LnRL0mivjwA",
    "outputId": "0d7398a7-d430-4331-b177-5bb37b97deb3"
   },
   "outputs": [
    {
     "data": {
      "text/plain": [
       "True"
      ]
     },
     "execution_count": 80,
     "metadata": {
      "tags": []
     },
     "output_type": "execute_result"
    }
   ],
   "source": [
    "math.pi > math.e"
   ]
  },
  {
   "cell_type": "code",
   "execution_count": 81,
   "metadata": {
    "colab": {
     "base_uri": "https://localhost:8080/",
     "height": 34
    },
    "colab_type": "code",
    "id": "B0KiKnLUvjwB",
    "outputId": "cbfa3f64-55fa-4198-9b3d-1b62de6a7b76"
   },
   "outputs": [
    {
     "data": {
      "text/plain": [
       "False"
      ]
     },
     "execution_count": 81,
     "metadata": {
      "tags": []
     },
     "output_type": "execute_result"
    }
   ],
   "source": [
    "1 >= 2"
   ]
  },
  {
   "cell_type": "code",
   "execution_count": 82,
   "metadata": {
    "colab": {
     "base_uri": "https://localhost:8080/",
     "height": 34
    },
    "colab_type": "code",
    "id": "BaSrpH4zvjwC",
    "outputId": "ee0a9527-99e7-4089-85f5-edaa9d4e2f96"
   },
   "outputs": [
    {
     "data": {
      "text/plain": [
       "True"
      ]
     },
     "execution_count": 82,
     "metadata": {
      "tags": []
     },
     "output_type": "execute_result"
    }
   ],
   "source": [
    "-1 < 0"
   ]
  },
  {
   "cell_type": "code",
   "execution_count": 83,
   "metadata": {
    "colab": {
     "base_uri": "https://localhost:8080/",
     "height": 34
    },
    "colab_type": "code",
    "id": "-IT7XyrbvjwC",
    "outputId": "6c3a1cbb-6352-4ba5-960c-6e54c2eab3ab"
   },
   "outputs": [
    {
     "data": {
      "text/plain": [
       "True"
      ]
     },
     "execution_count": 83,
     "metadata": {
      "tags": []
     },
     "output_type": "execute_result"
    }
   ],
   "source": [
    "1 == 1.0"
   ]
  },
  {
   "cell_type": "code",
   "execution_count": 84,
   "metadata": {
    "colab": {
     "base_uri": "https://localhost:8080/",
     "height": 34
    },
    "colab_type": "code",
    "id": "c6Q_Sh4wvjwD",
    "outputId": "d9cf89b1-8d49-40f1-f961-340ee9cc3e34"
   },
   "outputs": [
    {
     "data": {
      "text/plain": [
       "False"
      ]
     },
     "execution_count": 84,
     "metadata": {
      "tags": []
     },
     "output_type": "execute_result"
    }
   ],
   "source": [
    "1 == 1.000001"
   ]
  },
  {
   "cell_type": "code",
   "execution_count": 85,
   "metadata": {
    "colab": {
     "base_uri": "https://localhost:8080/",
     "height": 34
    },
    "colab_type": "code",
    "id": "uxguL1KwvjwE",
    "outputId": "ca056155-544a-4d77-ce44-8049712550f8"
   },
   "outputs": [
    {
     "data": {
      "text/plain": [
       "True"
      ]
     },
     "execution_count": 85,
     "metadata": {
      "tags": []
     },
     "output_type": "execute_result"
    }
   ],
   "source": [
    "# not equals\n",
    "1 != 0"
   ]
  },
  {
   "cell_type": "markdown",
   "metadata": {
    "colab_type": "text",
    "id": "61FiN1qLvjwF"
   },
   "source": [
    "**Logical operators:**\n",
    "\n",
    "These act on one or two boolean variables and return another boolean value:"
   ]
  },
  {
   "cell_type": "code",
   "execution_count": 86,
   "metadata": {
    "colab": {
     "base_uri": "https://localhost:8080/",
     "height": 34
    },
    "colab_type": "code",
    "id": "H_ToYW2SvjwF",
    "outputId": "9bfc0064-de28-4886-fd64-d8f3eca850e2"
   },
   "outputs": [
    {
     "data": {
      "text/plain": [
       "(False, True, False)"
      ]
     },
     "execution_count": 86,
     "metadata": {
      "tags": []
     },
     "output_type": "execute_result"
    }
   ],
   "source": [
    "p, q = True, False\n",
    "p and q, p or q, not p"
   ]
  },
  {
   "cell_type": "markdown",
   "metadata": {
    "colab_type": "text",
    "id": "o0_95fdqvjwG"
   },
   "source": [
    "Notes:\n",
    "\n",
    "1. These operators are not to be confused with **\\&** and **\\|**, which are _bitwise operators_ and beyond the scope of these labs.\n",
    "\n",
    "2. The order of precedence (from high to low) is `not`, `and`, then `or`."
   ]
  },
  {
   "cell_type": "markdown",
   "metadata": {
    "colab_type": "text",
    "id": "_Qs3CO9bvjwG"
   },
   "source": [
    "## 6. Basic Input / Output\n",
    "\n",
    "One basic function that we haven't mentioned yet is `print`. As the name suggests, `print` is for printing stuff to the screen. Here are a couple of examples:"
   ]
  },
  {
   "cell_type": "code",
   "execution_count": 87,
   "metadata": {
    "colab": {
     "base_uri": "https://localhost:8080/",
     "height": 34
    },
    "colab_type": "code",
    "id": "_mTADUF3vjwG",
    "outputId": "f7bc6759-8da5-4c05-b6c0-273ee3170f9e"
   },
   "outputs": [
    {
     "name": "stdout",
     "output_type": "stream",
     "text": [
      "Hello world!\n"
     ]
    }
   ],
   "source": [
    "print('Hello world!')"
   ]
  },
  {
   "cell_type": "code",
   "execution_count": 88,
   "metadata": {
    "colab": {
     "base_uri": "https://localhost:8080/",
     "height": 34
    },
    "colab_type": "code",
    "id": "YwDssyO7vjwH",
    "outputId": "23d9be46-3c36-4a57-aca5-85edbaf5db4a"
   },
   "outputs": [
    {
     "name": "stdout",
     "output_type": "stream",
     "text": [
      "1 plus 1 is 2\n"
     ]
    }
   ],
   "source": [
    "print(1, \"plus\", 1, \"is\", 1+1)"
   ]
  },
  {
   "cell_type": "markdown",
   "metadata": {
    "colab_type": "text",
    "id": "b5G8IdMSvjwI"
   },
   "source": [
    "There are times when we want a program to prompt the user to input data. In Python, this can be done with the `input` function, which reads in user input as a string. Evaluate the following simple program and then enter your name:"
   ]
  },
  {
   "cell_type": "code",
   "execution_count": 89,
   "metadata": {
    "colab": {
     "base_uri": "https://localhost:8080/",
     "height": 63
    },
    "colab_type": "code",
    "id": "p5uxriypvjwI",
    "outputId": "bf531242-92a9-46b8-ad89-93f96fb4758d"
   },
   "outputs": [
    {
     "name": "stdout",
     "output_type": "stream",
     "text": [
      "Please tell me your name:Matthew\n",
      "Nice to meet you Matthew ! My name is Monty.\n"
     ]
    }
   ],
   "source": [
    "your_name = input(\"Please tell me your name:\")\n",
    "print(\"Nice to meet you\", your_name, \"! My name is Monty.\")"
   ]
  },
  {
   "cell_type": "markdown",
   "metadata": {
    "colab_type": "text",
    "id": "27x0w06vvjwJ"
   },
   "source": [
    "Here is a simple program that performs a unit conversion (note how the result of `input` is converted to a `float`!):"
   ]
  },
  {
   "cell_type": "code",
   "execution_count": 90,
   "metadata": {
    "colab": {
     "base_uri": "https://localhost:8080/",
     "height": 63
    },
    "colab_type": "code",
    "id": "o3kukhIUvjwJ",
    "outputId": "78e89c8b-546d-4727-88b4-a0e1b8d67014"
   },
   "outputs": [
    {
     "name": "stdout",
     "output_type": "stream",
     "text": [
      "Enter your mass in kilograms:2.14\n",
      "Your mass is 4.72 pounds.\n"
     ]
    }
   ],
   "source": [
    "mass_in_kg = float(input('Enter your mass in kilograms:'))\n",
    "mass_in_lb = 2.20462*mass_in_kg\n",
    "print('Your mass is', round(mass_in_lb, 2), 'pounds.')"
   ]
  },
  {
   "cell_type": "markdown",
   "metadata": {
    "colab_type": "text",
    "id": "pu1sxPMuvjwK"
   },
   "source": [
    "**Exercise 6.1:** using the same approach as the above two examples, write a simple program to convert a temperature from Fahrenheit to Celsius."
   ]
  },
  {
   "cell_type": "markdown",
   "metadata": {
    "colab_type": "text",
    "id": "GFjHqU-1vjwK"
   },
   "source": [
    "## 7. Conditional evaluation: if statements"
   ]
  },
  {
   "cell_type": "markdown",
   "metadata": {
    "colab_type": "text",
    "id": "ZQ8b4l22vjwK"
   },
   "source": [
    "The `if` statement exists to allow for execution of a block of code only when the supplied _condition_ is met.\n",
    "\n",
    "There are several variants:"
   ]
  },
  {
   "cell_type": "code",
   "execution_count": 0,
   "metadata": {
    "colab": {},
    "colab_type": "code",
    "id": "xgu0rmyzvjwK"
   },
   "outputs": [],
   "source": [
    "if 1 == 2:\n",
    "    print(\"anything goes!\")"
   ]
  },
  {
   "cell_type": "code",
   "execution_count": 92,
   "metadata": {
    "colab": {
     "base_uri": "https://localhost:8080/",
     "height": 34
    },
    "colab_type": "code",
    "id": "MlY1i9dLvjwL",
    "outputId": "217d2a9b-055d-466b-e5a8-66967c3f4da5"
   },
   "outputs": [
    {
     "name": "stdout",
     "output_type": "stream",
     "text": [
      "everything's fine!\n"
     ]
    }
   ],
   "source": [
    "if 1 == 2:\n",
    "    print(\"anything goes!\")\n",
    "else:\n",
    "    print(\"everything's fine!\")"
   ]
  },
  {
   "cell_type": "code",
   "execution_count": 93,
   "metadata": {
    "colab": {
     "base_uri": "https://localhost:8080/",
     "height": 34
    },
    "colab_type": "code",
    "id": "GTQOUnMVvjwM",
    "outputId": "3706e092-8b8d-458e-9bc1-a51905b1ac11"
   },
   "outputs": [
    {
     "name": "stdout",
     "output_type": "stream",
     "text": [
      "everything's fine!\n"
     ]
    }
   ],
   "source": [
    "if 1 == 2:\n",
    "    print(\"anything goes!\")\n",
    "elif 2 == 3:\n",
    "    print(\"something's wrong!\")\n",
    "else:\n",
    "    print(\"everything's fine!\")"
   ]
  },
  {
   "cell_type": "markdown",
   "metadata": {
    "colab_type": "text",
    "id": "8STKdL9VvjwN"
   },
   "source": [
    "Note that in the above, the body of the `if` statement is indented. This is a general feature of the Python language, which uses indentation to _structure_ code blocks. In most other programming languages, delimiters such as { } are used to denote code blocks (and indenting is ignored). In Python, by contrast, the indentation is _required_. The Python approach may take a little getting used to, but it has the advantage of enforcing the writing of uncluttered, readable code. "
   ]
  },
  {
   "cell_type": "markdown",
   "metadata": {
    "colab_type": "text",
    "id": "XDkm_7WBvjwN"
   },
   "source": [
    "Either tabs or spaces can be used for indentation, but they should not be mixed. The recommended style is **4 spaces per indentation level** (this is automatically applied in Jupyter, as in the previous examples)."
   ]
  },
  {
   "cell_type": "markdown",
   "metadata": {
    "colab_type": "text",
    "id": "6hhwWUNKvjwN"
   },
   "source": [
    "## 8. Iteration: while loops"
   ]
  },
  {
   "cell_type": "markdown",
   "metadata": {
    "colab_type": "text",
    "id": "jNbcquQXvjwN"
   },
   "source": [
    "**while loops:**\n",
    "    \n",
    "The `while` loop executes a block of code repeatedly as long as the supplied condition is satisfied."
   ]
  },
  {
   "cell_type": "code",
   "execution_count": 0,
   "metadata": {
    "colab": {},
    "colab_type": "code",
    "id": "vymdKtFnvjwN"
   },
   "outputs": [],
   "source": [
    "i = 0\n",
    "while i**2 < 60:\n",
    "    print(i, i**2)\n",
    "    i += 1\n",
    "print('done: i =', i)"
   ]
  },
  {
   "cell_type": "markdown",
   "metadata": {
    "colab_type": "text",
    "id": "9VM7HzKlvjwO"
   },
   "source": [
    "**Exercise 8.1:** Use a while loop to print out the multiples of 13 between 1 and 100."
   ]
  },
  {
   "cell_type": "code",
   "execution_count": 95,
   "metadata": {
    "colab": {
     "base_uri": "https://localhost:8080/",
     "height": 153
    },
    "colab_type": "code",
    "id": "DVd8wUD05Ayg",
    "outputId": "31255f77-9229-445e-d332-70fbf4510e6f"
   },
   "outputs": [
    {
     "name": "stdout",
     "output_type": "stream",
     "text": [
      "13\n",
      "26\n",
      "39\n",
      "52\n",
      "65\n",
      "78\n",
      "91\n",
      "done: i = 8\n"
     ]
    }
   ],
   "source": [
    "i = 1\n",
    "while i*13 <= 100:\n",
    "  print(i*13)\n",
    "  i += 1\n",
    "print('done: i =',i)"
   ]
  },
  {
   "cell_type": "markdown",
   "metadata": {
    "colab_type": "text",
    "id": "XasI_3dVvjwO"
   },
   "source": [
    "**Exercise 8.2:** Use a while loop to calculate the sum of the squares of the first 100 positive integers."
   ]
  },
  {
   "cell_type": "code",
   "execution_count": 97,
   "metadata": {
    "colab": {
     "base_uri": "https://localhost:8080/",
     "height": 34
    },
    "colab_type": "code",
    "id": "AbDmm0cP5cOg",
    "outputId": "37f2e4ed-a7e6-47f7-ca28-417ea333388e"
   },
   "outputs": [
    {
     "name": "stdout",
     "output_type": "stream",
     "text": [
      "sum is =  5050\n"
     ]
    }
   ],
   "source": [
    "i = 1\n",
    "sum = 0\n",
    "while i <= 100:\n",
    "  sum += i\n",
    "  i += 1\n",
    "print('sum is = ',sum)"
   ]
  },
  {
   "cell_type": "markdown",
   "metadata": {
    "colab_type": "text",
    "id": "wAmX8f9vvjwP"
   },
   "source": [
    "## 9. Defining your own functions"
   ]
  },
  {
   "cell_type": "markdown",
   "metadata": {
    "colab_type": "text",
    "id": "ac4lhU9cvjwP"
   },
   "source": [
    "Functions are called with arguments in parentheses. For example, we've already seen the `float` function:"
   ]
  },
  {
   "cell_type": "code",
   "execution_count": 98,
   "metadata": {
    "colab": {
     "base_uri": "https://localhost:8080/",
     "height": 34
    },
    "colab_type": "code",
    "id": "6y8IeuYTvjwP",
    "outputId": "98e34b84-1647-4598-93c6-3a4c09c54adf"
   },
   "outputs": [
    {
     "data": {
      "text/plain": [
       "123.456"
      ]
     },
     "execution_count": 98,
     "metadata": {
      "tags": []
     },
     "output_type": "execute_result"
    }
   ],
   "source": [
    "float('123.456')"
   ]
  },
  {
   "cell_type": "markdown",
   "metadata": {
    "colab_type": "text",
    "id": "VAEJbBWfvjwQ"
   },
   "source": [
    "You can also define your own functions.\n",
    "\n",
    "Here is a function that returns the sum of two arguments:"
   ]
  },
  {
   "cell_type": "code",
   "execution_count": 0,
   "metadata": {
    "colab": {},
    "colab_type": "code",
    "id": "I4n4u0l2vjwQ"
   },
   "outputs": [],
   "source": [
    "def my_plus(a, b):\n",
    "    a_plus_b = a + b\n",
    "    return a_plus_b"
   ]
  },
  {
   "cell_type": "code",
   "execution_count": 100,
   "metadata": {
    "colab": {
     "base_uri": "https://localhost:8080/",
     "height": 34
    },
    "colab_type": "code",
    "id": "P-et6xSlvjwR",
    "outputId": "994fb561-2b0d-471f-8e6d-590589f19a37"
   },
   "outputs": [
    {
     "data": {
      "text/plain": [
       "2"
      ]
     },
     "execution_count": 100,
     "metadata": {
      "tags": []
     },
     "output_type": "execute_result"
    }
   ],
   "source": [
    "my_plus(1,1)"
   ]
  },
  {
   "cell_type": "markdown",
   "metadata": {
    "colab_type": "text",
    "id": "HQXSoS43vjwS"
   },
   "source": [
    "Note that variables defined inside a function are not \"visible\" from outside the function. In technical parlance, they have _local_ (as opposed to _global_) _scope_:"
   ]
  },
  {
   "cell_type": "code",
   "execution_count": 101,
   "metadata": {
    "colab": {
     "base_uri": "https://localhost:8080/",
     "height": 164
    },
    "colab_type": "code",
    "id": "pHE6Hkw-vjwS",
    "outputId": "a9536a38-c70c-45df-badb-b8c1d444b068"
   },
   "outputs": [
    {
     "ename": "NameError",
     "evalue": "ignored",
     "output_type": "error",
     "traceback": [
      "\u001b[0;31m---------------------------------------------------------------------------\u001b[0m",
      "\u001b[0;31mNameError\u001b[0m                                 Traceback (most recent call last)",
      "\u001b[0;32m<ipython-input-101-3d9390a2a69d>\u001b[0m in \u001b[0;36m<module>\u001b[0;34m()\u001b[0m\n\u001b[0;32m----> 1\u001b[0;31m \u001b[0ma_plus_b\u001b[0m\u001b[0;34m\u001b[0m\u001b[0;34m\u001b[0m\u001b[0m\n\u001b[0m",
      "\u001b[0;31mNameError\u001b[0m: name 'a_plus_b' is not defined"
     ]
    }
   ],
   "source": [
    "a_plus_b"
   ]
  },
  {
   "cell_type": "markdown",
   "metadata": {
    "colab_type": "text",
    "id": "b2_IOxXHvjwT"
   },
   "source": [
    "Note that functions don't actually _need_ to return anything. Here is a function that just prints something (this is sometimes referred to as a _side effect_):"
   ]
  },
  {
   "cell_type": "code",
   "execution_count": 33,
   "metadata": {
    "colab": {},
    "colab_type": "code",
    "id": "YGNsaHJ4vjwT"
   },
   "outputs": [],
   "source": [
    "def print_sign(n):\n",
    "    if n > 0:\n",
    "        print(n, 'is positive')\n",
    "    elif n == 0:\n",
    "        print(n, 'is zero')\n",
    "    else:\n",
    "        print(n, 'is negative')"
   ]
  },
  {
   "cell_type": "code",
   "execution_count": 34,
   "metadata": {
    "colab": {
     "base_uri": "https://localhost:8080/",
     "height": 136
    },
    "colab_type": "code",
    "id": "h-teakpl6dXX",
    "outputId": "44aca00f-a9d8-4e80-e369-0b063bf7c095"
   },
   "outputs": [
    {
     "name": "stdout",
     "output_type": "stream",
     "text": [
      "-3 is negative\n",
      "-2 is negative\n",
      "-1 is negative\n",
      "0 is zero\n",
      "1 is positive\n",
      "2 is positive\n",
      "3 is positive\n"
     ]
    }
   ],
   "source": [
    "i = -3\n",
    "while i < 4:\n",
    "    print_sign(i)\n",
    "    i += 1"
   ]
  },
  {
   "cell_type": "markdown",
   "metadata": {
    "colab_type": "text",
    "id": "wiym0fVOvjwU"
   },
   "source": [
    "More precisely, the default return value is `None` when the function doesn't include a `return` statement:"
   ]
  },
  {
   "cell_type": "code",
   "execution_count": 105,
   "metadata": {
    "colab": {
     "base_uri": "https://localhost:8080/",
     "height": 51
    },
    "colab_type": "code",
    "id": "mZoQIxZQvjwV",
    "outputId": "e1922129-3a02-402c-a1a9-80a9e44583e6"
   },
   "outputs": [
    {
     "name": "stdout",
     "output_type": "stream",
     "text": [
      "1 is positive\n",
      "None\n"
     ]
    }
   ],
   "source": [
    "x = print_sign(1); print(x)"
   ]
  },
  {
   "cell_type": "markdown",
   "metadata": {
    "colab_type": "text",
    "id": "3_UdfpysvjwV"
   },
   "source": [
    "It is also possible to add default values for arguments, which makes them _optional_:"
   ]
  },
  {
   "cell_type": "code",
   "execution_count": 0,
   "metadata": {
    "colab": {},
    "colab_type": "code",
    "id": "dOirErN_vjwW"
   },
   "outputs": [],
   "source": [
    "def raise_to_power(x, n=2):\n",
    "    return x**n"
   ]
  },
  {
   "cell_type": "code",
   "execution_count": 107,
   "metadata": {
    "colab": {
     "base_uri": "https://localhost:8080/",
     "height": 34
    },
    "colab_type": "code",
    "id": "LzQuiZsqvjwW",
    "outputId": "8c65daf2-0010-4c1a-cd17-cce9405143bd"
   },
   "outputs": [
    {
     "data": {
      "text/plain": [
       "8"
      ]
     },
     "execution_count": 107,
     "metadata": {
      "tags": []
     },
     "output_type": "execute_result"
    }
   ],
   "source": [
    "raise_to_power(2,3)"
   ]
  },
  {
   "cell_type": "code",
   "execution_count": 108,
   "metadata": {
    "colab": {
     "base_uri": "https://localhost:8080/",
     "height": 34
    },
    "colab_type": "code",
    "id": "qQbFNqwTvjwX",
    "outputId": "ff087178-0195-4220-ff2f-5e8d98982163"
   },
   "outputs": [
    {
     "data": {
      "text/plain": [
       "4"
      ]
     },
     "execution_count": 108,
     "metadata": {
      "tags": []
     },
     "output_type": "execute_result"
    }
   ],
   "source": [
    "raise_to_power(2)"
   ]
  },
  {
   "cell_type": "markdown",
   "metadata": {
    "colab_type": "text",
    "id": "N6NIhZS1vjwY"
   },
   "source": [
    "**Exercise 9.1:** Define a function, `foobar`, which takes a (positive integer) argument `n` and, for each integer $k$ from $1$ to $n$:\n",
    "* prints \"foo\", if $k$ is a multiple of 3\n",
    "* prints \"bar\", if $k$ is a multiple of 5\n",
    "* prints \"foobar\", if $k$ is a multiple of both 3 and 5\n",
    "* prints nothing otherwise\n",
    "\n",
    "Show that your code works correctly by evaluating `foobar(60)`."
   ]
  },
  {
   "cell_type": "code",
   "execution_count": 0,
   "metadata": {
    "colab": {},
    "colab_type": "code",
    "id": "aB6ad1LK7h1W"
   },
   "outputs": [],
   "source": [
    "def foobar(n):\n",
    "  if ((n % 3==0) and (n % 5 ==0)):\n",
    "    print('foobar')\n",
    "  elif n % 3==0:\n",
    "    print('foo')\n",
    "  elif n % 5 == 0:\n",
    "    print('bar')"
   ]
  },
  {
   "cell_type": "code",
   "execution_count": 125,
   "metadata": {
    "colab": {
     "base_uri": "https://localhost:8080/",
     "height": 34
    },
    "colab_type": "code",
    "id": "916u2MvGBxdU",
    "outputId": "3750ae67-5adb-45e3-8c5b-e6e02f3fa0f3"
   },
   "outputs": [
    {
     "name": "stdout",
     "output_type": "stream",
     "text": [
      "foo\n"
     ]
    }
   ],
   "source": [
    "foobar(3)"
   ]
  },
  {
   "cell_type": "code",
   "execution_count": 126,
   "metadata": {
    "colab": {
     "base_uri": "https://localhost:8080/",
     "height": 34
    },
    "colab_type": "code",
    "id": "9jroPL5kB2Bl",
    "outputId": "b9c74fb1-a2d0-4794-c0a8-00b85550203f"
   },
   "outputs": [
    {
     "name": "stdout",
     "output_type": "stream",
     "text": [
      "bar\n"
     ]
    }
   ],
   "source": [
    "foobar(5)"
   ]
  },
  {
   "cell_type": "code",
   "execution_count": 127,
   "metadata": {
    "colab": {
     "base_uri": "https://localhost:8080/",
     "height": 34
    },
    "colab_type": "code",
    "id": "tdFDdd5-CLAR",
    "outputId": "cd105ca6-92e9-4743-a660-194ed92cbc03"
   },
   "outputs": [
    {
     "name": "stdout",
     "output_type": "stream",
     "text": [
      "foobar\n"
     ]
    }
   ],
   "source": [
    "foobar(15)"
   ]
  },
  {
   "cell_type": "code",
   "execution_count": 0,
   "metadata": {
    "colab": {},
    "colab_type": "code",
    "id": "G8bGxs-cCOr4"
   },
   "outputs": [],
   "source": [
    "foobar(7)"
   ]
  },
  {
   "cell_type": "markdown",
   "metadata": {
    "colab_type": "text",
    "id": "NPn-lcaevjwY"
   },
   "source": [
    "## Project: Calculating time of flight for object in free-fall\n",
    "\n",
    "Jingbo's idea: use finite differences to calculate the trajectory of a ball (say), dropped from some initial height. Subject to the force of gravity, initially no air resistance. Since we haven't introduced lists yet, the goal is to iterate in steps of dt until height <= 0. The result is the final value of t.\n",
    "\n",
    "If this seems too easy, we can add the case of air resistance as a follow-up."
   ]
  }
 ],
 "metadata": {
  "colab": {
   "name": "PHYS1002.Computational.Lab.1.ipynb",
   "provenance": [],
   "version": "0.3.2"
  },
  "kernelspec": {
   "display_name": "Python 3",
   "language": "python",
   "name": "python3"
  },
  "language_info": {
   "codemirror_mode": {
    "name": "ipython",
    "version": 3
   },
   "file_extension": ".py",
   "mimetype": "text/x-python",
   "name": "python",
   "nbconvert_exporter": "python",
   "pygments_lexer": "ipython3",
   "version": "3.7.3"
  }
 },
 "nbformat": 4,
 "nbformat_minor": 1
}
