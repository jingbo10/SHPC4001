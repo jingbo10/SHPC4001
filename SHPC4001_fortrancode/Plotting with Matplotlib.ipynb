{
 "cells": [
  {
   "cell_type": "markdown",
   "id": "1413423e-788e-4bee-b669-ff48c34606ef",
   "metadata": {},
   "source": [
    "## Plotting Text-File Data with Pandas and Matplotlib\n",
    "\n",
    "We start by importing the packages 'Matplotlib' and Pandas'. These are installed on the computers in the computer lab; if you need to install them on another system, the process is straightforward but will change depending on how you use Python on your machine. Plenty of guides are available online; find one that seems appropriate for you; afterwards, let us know if you would like a hand."
   ]
  },
  {
   "cell_type": "code",
   "execution_count": 12,
   "id": "a0a93c28-7021-485a-b4bb-6e1bd9eab6a1",
   "metadata": {
    "tags": []
   },
   "outputs": [],
   "source": [
    "import matplotlib.pyplot as plt\n",
    "import pandas as pd"
   ]
  },
  {
   "cell_type": "markdown",
   "id": "0514c4eb-e138-4426-b4fb-3d205d821d56",
   "metadata": {},
   "source": [
    "A delimited text file stores data in columns with each row corresponding to an element in the dataset. The delimiter is the character that separates the columns; this can be a ',', a ';' or any other character.\n",
    "\n",
    "We load the data stored in 'errord0.dat' into a Pandas 'DataFrame'. Note that, even though it is a '.dat' extension, this file contains text; try opening it!\n",
    "\n",
    "The keyword arguments 'header' and 'sep' specify that the first line should be treated as data, not column headings and that the columns are separated by 'whitespace' (any number of spaces or tabs)."
   ]
  },
  {
   "cell_type": "code",
   "execution_count": 13,
   "id": "d6c76dad-4555-4763-a54a-660359116f96",
   "metadata": {
    "tags": []
   },
   "outputs": [],
   "source": [
    "data = pd.read_csv('errord0.dat', header = None, sep='\\s+')"
   ]
  },
  {
   "cell_type": "markdown",
   "id": "cc2f76dd-2441-42e1-a7af-fa30da1372c4",
   "metadata": {},
   "source": [
    "You should also check to see that your data has loaded correctly."
   ]
  },
  {
   "cell_type": "code",
   "execution_count": 14,
   "id": "5b6aeb55-a165-4f4e-9370-d8baef1ea250",
   "metadata": {
    "tags": []
   },
   "outputs": [
    {
     "data": {
      "text/html": [
       "<div>\n",
       "<style scoped>\n",
       "    .dataframe tbody tr th:only-of-type {\n",
       "        vertical-align: middle;\n",
       "    }\n",
       "\n",
       "    .dataframe tbody tr th {\n",
       "        vertical-align: top;\n",
       "    }\n",
       "\n",
       "    .dataframe thead th {\n",
       "        text-align: right;\n",
       "    }\n",
       "</style>\n",
       "<table border=\"1\" class=\"dataframe\">\n",
       "  <thead>\n",
       "    <tr style=\"text-align: right;\">\n",
       "      <th></th>\n",
       "      <th>0</th>\n",
       "      <th>1</th>\n",
       "    </tr>\n",
       "  </thead>\n",
       "  <tbody>\n",
       "    <tr>\n",
       "      <th>0</th>\n",
       "      <td>1.0000</td>\n",
       "      <td>0.287419</td>\n",
       "    </tr>\n",
       "    <tr>\n",
       "      <th>1</th>\n",
       "      <td>0.5000</td>\n",
       "      <td>0.146974</td>\n",
       "    </tr>\n",
       "    <tr>\n",
       "      <th>2</th>\n",
       "      <td>0.2500</td>\n",
       "      <td>0.074258</td>\n",
       "    </tr>\n",
       "    <tr>\n",
       "      <th>3</th>\n",
       "      <td>0.1250</td>\n",
       "      <td>0.037315</td>\n",
       "    </tr>\n",
       "    <tr>\n",
       "      <th>4</th>\n",
       "      <td>0.0625</td>\n",
       "      <td>0.018703</td>\n",
       "    </tr>\n",
       "  </tbody>\n",
       "</table>\n",
       "</div>"
      ],
      "text/plain": [
       "        0         1\n",
       "0  1.0000  0.287419\n",
       "1  0.5000  0.146974\n",
       "2  0.2500  0.074258\n",
       "3  0.1250  0.037315\n",
       "4  0.0625  0.018703"
      ]
     },
     "execution_count": 14,
     "metadata": {},
     "output_type": "execute_result"
    }
   ],
   "source": [
    "data.head()"
   ]
  },
  {
   "cell_type": "markdown",
   "id": "a9485f44-b3a2-4bdc-8521-93df059e7730",
   "metadata": {},
   "source": [
    "Finally, we plot the data using Matplotlib."
   ]
  },
  {
   "cell_type": "code",
   "execution_count": 11,
   "id": "e7f3e4d9-7252-4061-b906-652286a37de5",
   "metadata": {
    "tags": []
   },
   "outputs": [
    {
     "data": {
      "image/png": "[encoded data removed]",
      "text/plain": [
       "<Figure size 640x480 with 1 Axes>"
      ]
     },
     "metadata": {},
     "output_type": "display_data"
    }
   ],
   "source": [
    "plt.plot(data[0], data[1], '*')\n",
    "plt.xlabel('Reading')\n",
    "plt.ylabel('Error')\n",
    "plt.savefig('ExamplePlot', dpi = 300)"
   ]
  },
  {
   "cell_type": "code",
   "execution_count": null,
   "id": "7f34db22-e3df-4ca1-895f-4e0cdd120e9f",
   "metadata": {},
   "outputs": [],
   "source": []
  }
 ],
 "metadata": {
  "kernelspec": {
   "display_name": "Python 3 (ipykernel)",
   "language": "python",
   "name": "python3"
  },
  "language_info": {
   "codemirror_mode": {
    "name": "ipython",
    "version": 3
   },
   "file_extension": ".py",
   "mimetype": "text/x-python",
   "name": "python",
   "nbconvert_exporter": "python",
   "pygments_lexer": "ipython3",
   "version": "3.11.4"
  }
 },
 "nbformat": 4,
 "nbformat_minor": 5
}
