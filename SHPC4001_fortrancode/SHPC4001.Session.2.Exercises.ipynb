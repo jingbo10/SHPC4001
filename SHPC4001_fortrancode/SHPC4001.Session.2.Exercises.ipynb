{
 "cells": [
  {
   "cell_type": "markdown",
   "metadata": {},
   "source": [
    "# SHPC4001: Session 2"
   ]
  },
  {
   "cell_type": "code",
   "execution_count": 2,
   "metadata": {},
   "outputs": [],
   "source": [
    "import numpy as np\n",
    "import matplotlib.pyplot as plt\n",
    "%matplotlib inline"
   ]
  },
  {
   "cell_type": "markdown",
   "metadata": {},
   "source": [
    "## 1. Vectorization"
   ]
  },
  {
   "cell_type": "markdown",
   "metadata": {},
   "source": [
    "An important issue when working with large arrays in NumPy is _vectorization_."
   ]
  },
  {
   "cell_type": "markdown",
   "metadata": {},
   "source": [
    "As a trivial example, let's compute squares of first 1000 non-negative integers."
   ]
  },
  {
   "cell_type": "code",
   "execution_count": null,
   "metadata": {},
   "outputs": [],
   "source": [
    "x = np.arange(1000, dtype=np.int64)"
   ]
  },
  {
   "cell_type": "markdown",
   "metadata": {},
   "source": [
    "The \"old school\" approach would be to use a looping construct of some kind:"
   ]
  },
  {
   "cell_type": "code",
   "execution_count": null,
   "metadata": {},
   "outputs": [],
   "source": [
    "y1 = np.zeros_like(x)"
   ]
  },
  {
   "cell_type": "code",
   "execution_count": null,
   "metadata": {},
   "outputs": [],
   "source": [
    "%%timeit\n",
    "for k, xk in enumerate(x):\n",
    "    y1[k] = xk**2"
   ]
  },
  {
   "cell_type": "markdown",
   "metadata": {},
   "source": [
    "In NumPy, we just square the original array directly:"
   ]
  },
  {
   "cell_type": "code",
   "execution_count": null,
   "metadata": {},
   "outputs": [],
   "source": [
    "%%timeit\n",
    "y2 = x**2"
   ]
  },
  {
   "cell_type": "markdown",
   "metadata": {},
   "source": [
    "NOTE 1: as a rule, this kind of \"loop slowness\" is an overhead of interpreted languages like Python, and does not occur in compiled languages like C or Fortran."
   ]
  },
  {
   "cell_type": "markdown",
   "metadata": {},
   "source": [
    "NOTE 2: it may not always be obvious, but with some care it is often possible to rewrite algorithms written with loops in vectorized form. Doing so can result in dramatic speed gains in NumPy as the above example illustrates."
   ]
  },
  {
   "cell_type": "markdown",
   "metadata": {},
   "source": [
    "NOTE 3: in cases where vectorization is inconvenient or impossible, packages like [Cython](https://cython.org/) or [Numba](https://numba.pydata.org/) can be used to produce faster loops in Python. This should only be necessary in special cases, however."
   ]
  },
  {
   "cell_type": "markdown",
   "metadata": {},
   "source": [
    "## 2. Numerical precision exercises"
   ]
  },
  {
   "cell_type": "markdown",
   "metadata": {},
   "source": [
    "**Exercise 1:** start with one, and add one-hundred-millionth one hundred million times\n",
    "\n",
    "We need to do things in single-precision for this example to work:"
   ]
  },
  {
   "cell_type": "code",
   "execution_count": null,
   "metadata": {},
   "outputs": [],
   "source": [
    "x = np.float32(1)\n",
    "dx = np.float32(1e-8)"
   ]
  },
  {
   "cell_type": "markdown",
   "metadata": {},
   "source": [
    "**Exercise 2:** start with one, and add one-millionth a million times. Compare accuracy of result using single- and double-precision\n"
   ]
  },
  {
   "cell_type": "markdown",
   "metadata": {},
   "source": [
    "**Exercise 3:** test associativity of addition $a + b + c$ for $a = 12345678.0$, $b = -12345677.0$, $c = 0.5412382$. Try single and double precision."
   ]
  },
  {
   "cell_type": "markdown",
   "metadata": {},
   "source": [
    "**Exercise 4:** evaluate $\\mathrm{sin}(n \\pi)$ for $n =1, 10^{6}, 10^{12}, 10^{18}$"
   ]
  },
  {
   "cell_type": "markdown",
   "metadata": {},
   "source": [
    "## 3. Example: instability of the quadratic formula\n",
    "\n",
    "The roots of the quadratic equation $ax^2 + bx + c = 0$ are given by\n",
    "\n",
    "$$x_1, x_2 = \\frac{-b \\pm \\sqrt{b^2 - 4ac}}{2a}$$\n",
    "\n",
    "The following is a naïve implementation:"
   ]
  },
  {
   "cell_type": "code",
   "execution_count": null,
   "metadata": {},
   "outputs": [],
   "source": [
    "def quadratic(a,b,c,x):\n",
    "    return a*x**2 + b*x + c\n",
    "\n",
    "def root1(a,b,c):\n",
    "    return (-b + np.sqrt(b*b - 4*a*c)) / (2*a)\n",
    "\n",
    "def root2(a,b,c):\n",
    "    return (-b - np.sqrt(b*b - 4*a*c)) / (2*a)"
   ]
  },
  {
   "cell_type": "markdown",
   "metadata": {},
   "source": [
    "Consider a quadratic equation with roots $x_1 = \\sqrt{3}$ and $x_2 = -\\sqrt{2}\\times 10^{-8}$:"
   ]
  },
  {
   "cell_type": "code",
   "execution_count": null,
   "metadata": {},
   "outputs": [],
   "source": [
    "x1, x2 = np.sqrt(3), -np.sqrt(2)*1e-8"
   ]
  },
  {
   "cell_type": "markdown",
   "metadata": {},
   "source": [
    "Define the corresponding $a$, $b$, $c$ and determine the fractional error in the calculated roots:"
   ]
  },
  {
   "cell_type": "code",
   "execution_count": null,
   "metadata": {},
   "outputs": [],
   "source": [
    "a, b, c = 1.0, -(x1 + x2), x1*x2"
   ]
  },
  {
   "cell_type": "code",
   "execution_count": null,
   "metadata": {},
   "outputs": [],
   "source": [
    "(root1(a,b,c) - x1)/x1"
   ]
  },
  {
   "cell_type": "code",
   "execution_count": null,
   "metadata": {},
   "outputs": [],
   "source": [
    "(root2(a,b,c) - x2)/x2"
   ]
  },
  {
   "cell_type": "markdown",
   "metadata": {},
   "source": [
    "The second root has suffered a loss of precision due to cancellation between terms in the formula:"
   ]
  },
  {
   "cell_type": "code",
   "execution_count": null,
   "metadata": {},
   "outputs": [],
   "source": [
    "b, np.sqrt(b*b - 4*a*c)"
   ]
  },
  {
   "cell_type": "markdown",
   "metadata": {},
   "source": [
    "We can circumvent this by noting that the roots satisfy $$x_2 = \\frac{c}{a\\, x_1}$$"
   ]
  },
  {
   "cell_type": "code",
   "execution_count": null,
   "metadata": {},
   "outputs": [],
   "source": [
    "def root2p(a,b,c):\n",
    "    return c/(a*root1(a,b,c))"
   ]
  },
  {
   "cell_type": "code",
   "execution_count": null,
   "metadata": {},
   "outputs": [],
   "source": [
    "(root2p(a,b,c) - x2)/x2"
   ]
  },
  {
   "cell_type": "markdown",
   "metadata": {},
   "source": [
    "The bottom line here is that care is sometimes needed to ensure that the algorithm being used does not incur loss of precision. For well-posed problems it is generally possible to find such algorithms."
   ]
  }
 ],
 "metadata": {
  "kernelspec": {
   "display_name": "Python 3",
   "language": "python",
   "name": "python3"
  },
  "language_info": {
   "codemirror_mode": {
    "name": "ipython",
    "version": 3
   },
   "file_extension": ".py",
   "mimetype": "text/x-python",
   "name": "python",
   "nbconvert_exporter": "python",
   "pygments_lexer": "ipython3",
   "version": "3.7.3"
  }
 },
 "nbformat": 4,
 "nbformat_minor": 2
}
